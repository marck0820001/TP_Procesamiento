{
 "cells": [
  {
   "cell_type": "code",
   "execution_count": 1,
   "metadata": {},
   "outputs": [],
   "source": [
    "import cv2\n",
    "import pickle\n",
    "\n",
    "img = cv2.imread('Entrada.png')\n",
    "\n",
    "espacios = []\n",
    "\n",
    "for x in range(4):\n",
    "    espacio = cv2.selectROI('espacio', img, False)\n",
    "    cv2.destroyWindow('espacio')\n",
    "    espacios.append(espacio)\n",
    "\n",
    "    for x, y, w, h in espacios:\n",
    "        cv2.rectangle(img, (x, y), (x+w, y+h), (255,0,0), 2)\n",
    "\n",
    "with open('espacios.pkl','wb') as file:\n",
    "    pickle.dump(espacios, file)"
   ]
  }
 ],
 "metadata": {
  "kernelspec": {
   "display_name": "Python 3",
   "language": "python",
   "name": "python3"
  },
  "language_info": {
   "codemirror_mode": {
    "name": "ipython",
    "version": 3
   },
   "file_extension": ".py",
   "mimetype": "text/x-python",
   "name": "python",
   "nbconvert_exporter": "python",
   "pygments_lexer": "ipython3",
   "version": "3.11.4"
  },
  "orig_nbformat": 4
 },
 "nbformat": 4,
 "nbformat_minor": 2
}
